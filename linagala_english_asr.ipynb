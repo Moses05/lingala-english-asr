{
  "nbformat": 4,
  "nbformat_minor": 0,
  "metadata": {
    "colab": {
      "provenance": [],
      "authorship_tag": "ABX9TyPd8idNjMfweyTRDrIjbLw3",
      "include_colab_link": true
    },
    "kernelspec": {
      "name": "python3",
      "display_name": "Python 3"
    },
    "language_info": {
      "name": "python"
    }
  },
  "cells": [
    {
      "cell_type": "markdown",
      "metadata": {
        "id": "view-in-github",
        "colab_type": "text"
      },
      "source": [
        "<a href=\"https://colab.research.google.com/github/Moses05/lingala-english-asr/blob/main/linagala_english_asr.ipynb\" target=\"_parent\"><img src=\"https://colab.research.google.com/assets/colab-badge.svg\" alt=\"Open In Colab\"/></a>"
      ]
    },
    {
      "cell_type": "markdown",
      "source": [
        "# Table of Contents"
      ],
      "metadata": {
        "id": "aeeQkhp87zBR"
      }
    },
    {
      "cell_type": "code",
      "source": [
        "!git clone https://github.com/Moses05/lingala-english-asr.git"
      ],
      "metadata": {
        "colab": {
          "base_uri": "https://localhost:8080/"
        },
        "id": "LjjI951mw2mP",
        "outputId": "08e26f2f-4b22-4ce0-effd-2c13213ba12b"
      },
      "execution_count": 2,
      "outputs": [
        {
          "output_type": "stream",
          "name": "stdout",
          "text": [
            "Cloning into 'lingala-english-asr'...\n",
            "remote: Enumerating objects: 2978, done.\u001b[K\n",
            "remote: Counting objects: 100% (3/3), done.\u001b[K\n",
            "remote: Compressing objects: 100% (2/2), done.\u001b[K\n",
            "remote: Total 2978 (delta 0), reused 3 (delta 0), pack-reused 2975 (from 1)\u001b[K\n",
            "Receiving objects: 100% (2978/2978), 432.52 MiB | 25.86 MiB/s, done.\n",
            "Resolving deltas: 100% (11/11), done.\n",
            "Updating files: 100% (2966/2966), done.\n"
          ]
        }
      ]
    },
    {
      "cell_type": "code",
      "source": [],
      "metadata": {
        "id": "XWJhfWvB8Og9"
      },
      "execution_count": null,
      "outputs": []
    }
  ]
}